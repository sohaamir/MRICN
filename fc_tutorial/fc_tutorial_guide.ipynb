{
  "cells": [
    {
      "cell_type": "raw",
      "metadata": {},
      "source": [
        "---\n",
        "title: \"mricn_fc_tutorial\"\n",
        "format: html\n",
        "editor: visual\n",
        "---"
      ],
      "id": "305da697"
    },
    {
      "cell_type": "markdown",
      "metadata": {},
      "source": [
        "## Performing a group-level functional connectivity analysis \n",
        "\n",
        "This guide borrows from one by Dianne Paterson at the University of Arizona,\n",
        "which you can find here: https://neuroimaging-core-docs.readthedocs.io/en/latest/pages/fsl_fmri_restingstate-sbc.html \n",
        "\n",
        "In this tutorial you will run a group-level functional connectivity analysis on \n",
        "resting-state fMRI data of three participants. We will specifically look at the \n",
        "functiona connectivity of the posterior cingulate cortex (PCC), a region of the \n",
        "default mode network (DMN) that is commonly observed in resting-state data.\n",
        "\n",
        "## Getting the data prepared\n",
        "\n",
        "Navigate to your shared directory within the MRICN folder and copy the data:\n",
        "\n",
        "\n",
        "```{bash}\n",
        "cp -r /rds/projects/c/chechlmy-chbh-mricn/aamir_test/SBC .\n",
        "cd SBC\n",
        "ls\n",
        "```\n",
        "\n",
        "\n",
        "You should see the following:\n",
        "\n",
        "\n",
        "```{bash}\n",
        "sub1 sub2 sub3\n",
        "```"
      ],
      "id": "0bb08d90"
    }
  ],
  "metadata": {
    "kernelspec": {
      "display_name": "Python 3",
      "language": "python",
      "name": "python3"
    }
  },
  "nbformat": 4,
  "nbformat_minor": 5
}