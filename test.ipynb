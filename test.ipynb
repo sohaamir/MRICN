{
  "nbformat": 4,
  "nbformat_minor": 0,
  "metadata": {
    "colab": {
      "provenance": [],
      "authorship_tag": "ABX9TyMwYNkpeXVNXjgxKGbJNq8q",
      "include_colab_link": true
    },
    "kernelspec": {
      "name": "python3",
      "display_name": "Python 3"
    },
    "language_info": {
      "name": "python"
    }
  },
  "cells": [
    {
      "cell_type": "markdown",
      "metadata": {
        "id": "view-in-github",
        "colab_type": "text"
      },
      "source": [
        "<a href=\"https://colab.research.google.com/github/sohaamir/aamir_vs_chris/blob/main/test.ipynb\" target=\"_parent\"><img src=\"https://colab.research.google.com/assets/colab-badge.svg\" alt=\"Open In Colab\"/></a>"
      ]
    },
    {
      "cell_type": "code",
      "execution_count": null,
      "metadata": {
        "id": "HAoIvNDmcBFu"
      },
      "outputs": [],
      "source": [
        "# **Who has the bigger brain, me or Chris Gorgolewski? A gentle introduction to nipype**\n",
        "\n"
      ]
    },
    {
      "cell_type": "markdown",
      "source": [
        "## What is Google Colab?\n",
        "**Google Colaboratory** is is a free cloud-based platform provided by Google that offers a Jupyter notebook environment for writing and executing Python code. It is primarily used for data analysis tasks but can also be used for general-purpose Python programming. It has many benefits when working with data (including neuroimaging data) such as:\n",
        "\n",
        "1.   Free access\n",
        "2.   Cloud-based hosting (available everywhere)\n",
        "3.   GPU/TPU Support (lots of processing power)\n",
        "4.   External Data Access (import data GitHub, Google Drive, local machine)\n",
        "\n",
        "It is an interactive environment similar to Anaconda, but with certain advantages (like those mentioned above). Similarly, Colab allows for users to run code in small chunks called 'cells', displaying any output such as images directly within the notebook as well. The programming language used by these notebooks is `Python`, which it organises in the form of `Jupyter Notebooks`."
      ],
      "metadata": {
        "id": "bFkk0Ow6cGOl"
      }
    },
    {
      "cell_type": "markdown",
      "source": [
        "## What can we do in Google Colab?\n",
        "\n",
        "We can do a whole bunch of things..."
      ],
      "metadata": {
        "id": "fl_SetL4cI8A"
      }
    },
    {
      "cell_type": "code",
      "source": [
        "import matplotlib.pyplot as plt\n",
        "import numpy as np\n",
        "\n",
        "x = np.linspace(0, 10, 100)\n",
        "y = np.sin(x)\n",
        "\n",
        "plt.plot(x, y)\n",
        "plt.title(\"Sine Wave\")\n",
        "plt.xlabel(\"X\")\n",
        "plt.ylabel(\"sin(X)\")\n",
        "plt.show()"
      ],
      "metadata": {
        "id": "HnBM0JYbcYgm"
      },
      "execution_count": null,
      "outputs": []
    },
    {
      "cell_type": "code",
      "source": [
        "import numpy as np\n",
        "import matplotlib.pyplot as plt\n",
        "\n",
        "def mandelbrot(c, max_iter):\n",
        "    z = 0\n",
        "    n = 0\n",
        "    while abs(z) <= 2 and n < max_iter:\n",
        "        z = z*z + c\n",
        "        n += 1\n",
        "    return n\n",
        "\n",
        "def mandelbrot_image(xmin, xmax, ymin, ymax, width=10, height=10, max_iter=256):\n",
        "    # Create a width x height grid of complex numbers\n",
        "    x = np.linspace(xmin, xmax, width * 100)\n",
        "    y = np.linspace(ymin, ymax, height * 100)\n",
        "    X, Y = np.meshgrid(x, y)\n",
        "    C = X + 1j * Y\n",
        "\n",
        "    # Compute Mandelbrot set\n",
        "    img = np.zeros(C.shape, dtype=int)\n",
        "    for i in range(width * 100):\n",
        "        for j in range(height * 100):\n",
        "            img[j, i] = mandelbrot(C[j, i], max_iter)\n",
        "\n",
        "    # Plotting\n",
        "    plt.figure(figsize=(width, height))\n",
        "    plt.imshow(img, extent=(xmin, xmax, ymin, ymax), cmap='hot')\n",
        "    plt.colorbar()\n",
        "    plt.title(\"Mandelbrot Set\")\n",
        "    plt.show()\n",
        "\n",
        "# Parameters defining the extent of the region in the complex plane we're going to plot\n",
        "xmin, xmax, ymin, ymax = -2.0, 0.5, -1.25, 1.25\n",
        "width, height = 10, 10\n",
        "max_iter = 256\n",
        "\n",
        "mandelbrot_image(xmin, xmax, ymin, ymax, width, height, max_iter)"
      ],
      "metadata": {
        "id": "7ZZ-3TOrcaZX"
      },
      "execution_count": null,
      "outputs": []
    }
  ]
}